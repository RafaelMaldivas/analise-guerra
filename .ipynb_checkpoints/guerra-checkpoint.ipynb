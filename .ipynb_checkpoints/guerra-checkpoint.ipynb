{
 "cells": [
  {
   "cell_type": "markdown",
   "id": "7ec4c0ea",
   "metadata": {},
   "source": [
    "## Importações"
   ]
  },
  {
   "cell_type": "code",
   "execution_count": 111,
   "id": "12448cbd",
   "metadata": {},
   "outputs": [],
   "source": [
    "import pandas as pd\n",
    "import numpy as np\n",
    "import seaborn as sns\n",
    "import matplotlib.pyplot as plt\n",
    "%matplotlib inline"
   ]
  },
  {
   "cell_type": "markdown",
   "id": "590a9f03",
   "metadata": {},
   "source": [
    "## Importando os dados"
   ]
  },
  {
   "cell_type": "code",
   "execution_count": 112,
   "id": "35017f4a",
   "metadata": {},
   "outputs": [],
   "source": [
    "df = pd.read_csv(\"russia_losses_equipment.csv\")"
   ]
  },
  {
   "cell_type": "code",
   "execution_count": 113,
   "id": "f57e243c",
   "metadata": {},
   "outputs": [
    {
     "data": {
      "text/html": [
       "<div>\n",
       "<style scoped>\n",
       "    .dataframe tbody tr th:only-of-type {\n",
       "        vertical-align: middle;\n",
       "    }\n",
       "\n",
       "    .dataframe tbody tr th {\n",
       "        vertical-align: top;\n",
       "    }\n",
       "\n",
       "    .dataframe thead th {\n",
       "        text-align: right;\n",
       "    }\n",
       "</style>\n",
       "<table border=\"1\" class=\"dataframe\">\n",
       "  <thead>\n",
       "    <tr style=\"text-align: right;\">\n",
       "      <th></th>\n",
       "      <th>date</th>\n",
       "      <th>day</th>\n",
       "      <th>aircraft</th>\n",
       "      <th>helicopter</th>\n",
       "      <th>tank</th>\n",
       "      <th>APC</th>\n",
       "      <th>field artillery</th>\n",
       "      <th>MRL</th>\n",
       "      <th>military auto</th>\n",
       "      <th>fuel tank</th>\n",
       "      <th>drone</th>\n",
       "      <th>naval ship</th>\n",
       "      <th>anti-aircraft warfare</th>\n",
       "      <th>special equipment</th>\n",
       "      <th>mobile SRBM system</th>\n",
       "      <th>vehicles and fuel tanks</th>\n",
       "      <th>cruise missiles</th>\n",
       "    </tr>\n",
       "  </thead>\n",
       "  <tbody>\n",
       "    <tr>\n",
       "      <th>0</th>\n",
       "      <td>2022-02-25</td>\n",
       "      <td>2</td>\n",
       "      <td>10</td>\n",
       "      <td>7</td>\n",
       "      <td>80</td>\n",
       "      <td>516</td>\n",
       "      <td>49</td>\n",
       "      <td>4</td>\n",
       "      <td>100.0</td>\n",
       "      <td>60.0</td>\n",
       "      <td>0</td>\n",
       "      <td>2</td>\n",
       "      <td>0</td>\n",
       "      <td>NaN</td>\n",
       "      <td>NaN</td>\n",
       "      <td>NaN</td>\n",
       "      <td>NaN</td>\n",
       "    </tr>\n",
       "    <tr>\n",
       "      <th>1</th>\n",
       "      <td>2022-02-26</td>\n",
       "      <td>3</td>\n",
       "      <td>27</td>\n",
       "      <td>26</td>\n",
       "      <td>146</td>\n",
       "      <td>706</td>\n",
       "      <td>49</td>\n",
       "      <td>4</td>\n",
       "      <td>130.0</td>\n",
       "      <td>60.0</td>\n",
       "      <td>2</td>\n",
       "      <td>2</td>\n",
       "      <td>0</td>\n",
       "      <td>NaN</td>\n",
       "      <td>NaN</td>\n",
       "      <td>NaN</td>\n",
       "      <td>NaN</td>\n",
       "    </tr>\n",
       "    <tr>\n",
       "      <th>2</th>\n",
       "      <td>2022-02-27</td>\n",
       "      <td>4</td>\n",
       "      <td>27</td>\n",
       "      <td>26</td>\n",
       "      <td>150</td>\n",
       "      <td>706</td>\n",
       "      <td>50</td>\n",
       "      <td>4</td>\n",
       "      <td>130.0</td>\n",
       "      <td>60.0</td>\n",
       "      <td>2</td>\n",
       "      <td>2</td>\n",
       "      <td>0</td>\n",
       "      <td>NaN</td>\n",
       "      <td>NaN</td>\n",
       "      <td>NaN</td>\n",
       "      <td>NaN</td>\n",
       "    </tr>\n",
       "    <tr>\n",
       "      <th>3</th>\n",
       "      <td>2022-02-28</td>\n",
       "      <td>5</td>\n",
       "      <td>29</td>\n",
       "      <td>29</td>\n",
       "      <td>150</td>\n",
       "      <td>816</td>\n",
       "      <td>74</td>\n",
       "      <td>21</td>\n",
       "      <td>291.0</td>\n",
       "      <td>60.0</td>\n",
       "      <td>3</td>\n",
       "      <td>2</td>\n",
       "      <td>5</td>\n",
       "      <td>NaN</td>\n",
       "      <td>NaN</td>\n",
       "      <td>NaN</td>\n",
       "      <td>NaN</td>\n",
       "    </tr>\n",
       "    <tr>\n",
       "      <th>4</th>\n",
       "      <td>2022-03-01</td>\n",
       "      <td>6</td>\n",
       "      <td>29</td>\n",
       "      <td>29</td>\n",
       "      <td>198</td>\n",
       "      <td>846</td>\n",
       "      <td>77</td>\n",
       "      <td>24</td>\n",
       "      <td>305.0</td>\n",
       "      <td>60.0</td>\n",
       "      <td>3</td>\n",
       "      <td>2</td>\n",
       "      <td>7</td>\n",
       "      <td>NaN</td>\n",
       "      <td>NaN</td>\n",
       "      <td>NaN</td>\n",
       "      <td>NaN</td>\n",
       "    </tr>\n",
       "  </tbody>\n",
       "</table>\n",
       "</div>"
      ],
      "text/plain": [
       "         date  day  aircraft  helicopter  tank  APC  field artillery  MRL  \\\n",
       "0  2022-02-25    2        10           7    80  516               49    4   \n",
       "1  2022-02-26    3        27          26   146  706               49    4   \n",
       "2  2022-02-27    4        27          26   150  706               50    4   \n",
       "3  2022-02-28    5        29          29   150  816               74   21   \n",
       "4  2022-03-01    6        29          29   198  846               77   24   \n",
       "\n",
       "   military auto  fuel tank  drone  naval ship  anti-aircraft warfare  \\\n",
       "0          100.0       60.0      0           2                      0   \n",
       "1          130.0       60.0      2           2                      0   \n",
       "2          130.0       60.0      2           2                      0   \n",
       "3          291.0       60.0      3           2                      5   \n",
       "4          305.0       60.0      3           2                      7   \n",
       "\n",
       "   special equipment  mobile SRBM system  vehicles and fuel tanks  \\\n",
       "0                NaN                 NaN                      NaN   \n",
       "1                NaN                 NaN                      NaN   \n",
       "2                NaN                 NaN                      NaN   \n",
       "3                NaN                 NaN                      NaN   \n",
       "4                NaN                 NaN                      NaN   \n",
       "\n",
       "   cruise missiles  \n",
       "0              NaN  \n",
       "1              NaN  \n",
       "2              NaN  \n",
       "3              NaN  \n",
       "4              NaN  "
      ]
     },
     "execution_count": 113,
     "metadata": {},
     "output_type": "execute_result"
    }
   ],
   "source": [
    "df.head()"
   ]
  },
  {
   "cell_type": "markdown",
   "id": "63f3da0b",
   "metadata": {},
   "source": [
    "### Colunas"
   ]
  },
  {
   "cell_type": "code",
   "execution_count": 114,
   "id": "9a50c4cf",
   "metadata": {},
   "outputs": [
    {
     "data": {
      "text/plain": [
       "Index(['date', 'day', 'aircraft', 'helicopter', 'tank', 'APC',\n",
       "       'field artillery', 'MRL', 'military auto', 'fuel tank', 'drone',\n",
       "       'naval ship', 'anti-aircraft warfare', 'special equipment',\n",
       "       'mobile SRBM system', 'vehicles and fuel tanks', 'cruise missiles'],\n",
       "      dtype='object')"
      ]
     },
     "execution_count": 114,
     "metadata": {},
     "output_type": "execute_result"
    }
   ],
   "source": [
    "df.columns"
   ]
  },
  {
   "cell_type": "markdown",
   "id": "ba0f90d8",
   "metadata": {},
   "source": [
    "### Verificando os valores nulos"
   ]
  },
  {
   "cell_type": "code",
   "execution_count": 115,
   "id": "ed59ba35",
   "metadata": {
    "scrolled": false
   },
   "outputs": [
    {
     "data": {
      "text/plain": [
       "<AxesSubplot:>"
      ]
     },
     "execution_count": 115,
     "metadata": {},
     "output_type": "execute_result"
    },
    {
     "data": {
      "image/png": "[encoded data removed]",
      "text/plain": [
       "<Figure size 432x288 with 2 Axes>"
      ]
     },
     "metadata": {
      "needs_background": "light"
     },
     "output_type": "display_data"
    }
   ],
   "source": [
    "sns.heatmap(df.isnull())"
   ]
  },
  {
   "cell_type": "code",
   "execution_count": 116,
   "id": "13f38e09",
   "metadata": {},
   "outputs": [
    {
     "name": "stdout",
     "output_type": "stream",
     "text": [
      "<class 'pandas.core.frame.DataFrame'>\n",
      "RangeIndex: 87 entries, 0 to 86\n",
      "Data columns (total 17 columns):\n",
      " #   Column                   Non-Null Count  Dtype  \n",
      "---  ------                   --------------  -----  \n",
      " 0   date                     87 non-null     object \n",
      " 1   day                      87 non-null     int64  \n",
      " 2   aircraft                 87 non-null     int64  \n",
      " 3   helicopter               87 non-null     int64  \n",
      " 4   tank                     87 non-null     int64  \n",
      " 5   APC                      87 non-null     int64  \n",
      " 6   field artillery          87 non-null     int64  \n",
      " 7   MRL                      87 non-null     int64  \n",
      " 8   military auto            65 non-null     float64\n",
      " 9   fuel tank                65 non-null     float64\n",
      " 10  drone                    87 non-null     int64  \n",
      " 11  naval ship               87 non-null     int64  \n",
      " 12  anti-aircraft warfare    87 non-null     int64  \n",
      " 13  special equipment        68 non-null     float64\n",
      " 14  mobile SRBM system       36 non-null     float64\n",
      " 15  vehicles and fuel tanks  22 non-null     float64\n",
      " 16  cruise missiles          22 non-null     float64\n",
      "dtypes: float64(6), int64(10), object(1)\n",
      "memory usage: 11.7+ KB\n"
     ]
    }
   ],
   "source": [
    "df.info()"
   ]
  },
  {
   "cell_type": "code",
   "execution_count": 117,
   "id": "f242356e",
   "metadata": {},
   "outputs": [
    {
     "data": {
      "text/html": [
       "<div>\n",
       "<style scoped>\n",
       "    .dataframe tbody tr th:only-of-type {\n",
       "        vertical-align: middle;\n",
       "    }\n",
       "\n",
       "    .dataframe tbody tr th {\n",
       "        vertical-align: top;\n",
       "    }\n",
       "\n",
       "    .dataframe thead th {\n",
       "        text-align: right;\n",
       "    }\n",
       "</style>\n",
       "<table border=\"1\" class=\"dataframe\">\n",
       "  <thead>\n",
       "    <tr style=\"text-align: right;\">\n",
       "      <th></th>\n",
       "      <th>day</th>\n",
       "      <th>aircraft</th>\n",
       "      <th>helicopter</th>\n",
       "      <th>tank</th>\n",
       "      <th>APC</th>\n",
       "      <th>field artillery</th>\n",
       "      <th>MRL</th>\n",
       "      <th>military auto</th>\n",
       "      <th>fuel tank</th>\n",
       "      <th>drone</th>\n",
       "      <th>naval ship</th>\n",
       "      <th>anti-aircraft warfare</th>\n",
       "      <th>special equipment</th>\n",
       "      <th>mobile SRBM system</th>\n",
       "      <th>vehicles and fuel tanks</th>\n",
       "      <th>cruise missiles</th>\n",
       "    </tr>\n",
       "  </thead>\n",
       "  <tbody>\n",
       "    <tr>\n",
       "      <th>count</th>\n",
       "      <td>87.000000</td>\n",
       "      <td>87.000000</td>\n",
       "      <td>87.000000</td>\n",
       "      <td>87.000000</td>\n",
       "      <td>87.000000</td>\n",
       "      <td>87.000000</td>\n",
       "      <td>87.000000</td>\n",
       "      <td>65.000000</td>\n",
       "      <td>65.000000</td>\n",
       "      <td>87.000000</td>\n",
       "      <td>87.000000</td>\n",
       "      <td>87.000000</td>\n",
       "      <td>68.000000</td>\n",
       "      <td>36.000000</td>\n",
       "      <td>22.000000</td>\n",
       "      <td>22.000000</td>\n",
       "    </tr>\n",
       "    <tr>\n",
       "      <th>mean</th>\n",
       "      <td>45.000000</td>\n",
       "      <td>136.459770</td>\n",
       "      <td>124.965517</td>\n",
       "      <td>721.873563</td>\n",
       "      <td>1927.091954</td>\n",
       "      <td>333.908046</td>\n",
       "      <td>114.321839</td>\n",
       "      <td>1047.507692</td>\n",
       "      <td>69.323077</td>\n",
       "      <td>155.781609</td>\n",
       "      <td>6.988506</td>\n",
       "      <td>56.804598</td>\n",
       "      <td>28.573529</td>\n",
       "      <td>3.944444</td>\n",
       "      <td>2011.363636</td>\n",
       "      <td>94.272727</td>\n",
       "    </tr>\n",
       "    <tr>\n",
       "      <th>std</th>\n",
       "      <td>25.258662</td>\n",
       "      <td>59.260522</td>\n",
       "      <td>41.791411</td>\n",
       "      <td>337.536830</td>\n",
       "      <td>689.019570</td>\n",
       "      <td>158.187013</td>\n",
       "      <td>53.426867</td>\n",
       "      <td>466.162060</td>\n",
       "      <td>7.545917</td>\n",
       "      <td>149.154550</td>\n",
       "      <td>3.578015</td>\n",
       "      <td>25.140923</td>\n",
       "      <td>9.711228</td>\n",
       "      <td>0.333333</td>\n",
       "      <td>121.035038</td>\n",
       "      <td>6.634555</td>\n",
       "    </tr>\n",
       "    <tr>\n",
       "      <th>min</th>\n",
       "      <td>2.000000</td>\n",
       "      <td>10.000000</td>\n",
       "      <td>7.000000</td>\n",
       "      <td>80.000000</td>\n",
       "      <td>516.000000</td>\n",
       "      <td>49.000000</td>\n",
       "      <td>4.000000</td>\n",
       "      <td>100.000000</td>\n",
       "      <td>60.000000</td>\n",
       "      <td>0.000000</td>\n",
       "      <td>2.000000</td>\n",
       "      <td>0.000000</td>\n",
       "      <td>10.000000</td>\n",
       "      <td>2.000000</td>\n",
       "      <td>1796.000000</td>\n",
       "      <td>84.000000</td>\n",
       "    </tr>\n",
       "    <tr>\n",
       "      <th>25%</th>\n",
       "      <td>23.500000</td>\n",
       "      <td>94.000000</td>\n",
       "      <td>113.500000</td>\n",
       "      <td>458.000000</td>\n",
       "      <td>1459.000000</td>\n",
       "      <td>209.000000</td>\n",
       "      <td>72.000000</td>\n",
       "      <td>600.000000</td>\n",
       "      <td>60.000000</td>\n",
       "      <td>14.500000</td>\n",
       "      <td>3.000000</td>\n",
       "      <td>43.500000</td>\n",
       "      <td>24.000000</td>\n",
       "      <td>4.000000</td>\n",
       "      <td>1928.000000</td>\n",
       "      <td>90.000000</td>\n",
       "    </tr>\n",
       "    <tr>\n",
       "      <th>50%</th>\n",
       "      <td>45.000000</td>\n",
       "      <td>151.000000</td>\n",
       "      <td>136.000000</td>\n",
       "      <td>705.000000</td>\n",
       "      <td>1895.000000</td>\n",
       "      <td>335.000000</td>\n",
       "      <td>108.000000</td>\n",
       "      <td>1178.000000</td>\n",
       "      <td>73.000000</td>\n",
       "      <td>112.000000</td>\n",
       "      <td>7.000000</td>\n",
       "      <td>55.000000</td>\n",
       "      <td>27.000000</td>\n",
       "      <td>4.000000</td>\n",
       "      <td>2008.000000</td>\n",
       "      <td>94.000000</td>\n",
       "    </tr>\n",
       "    <tr>\n",
       "      <th>75%</th>\n",
       "      <td>66.500000</td>\n",
       "      <td>191.000000</td>\n",
       "      <td>155.000000</td>\n",
       "      <td>1017.000000</td>\n",
       "      <td>2458.000000</td>\n",
       "      <td>443.500000</td>\n",
       "      <td>151.000000</td>\n",
       "      <td>1437.000000</td>\n",
       "      <td>76.000000</td>\n",
       "      <td>238.500000</td>\n",
       "      <td>8.000000</td>\n",
       "      <td>78.500000</td>\n",
       "      <td>38.000000</td>\n",
       "      <td>4.000000</td>\n",
       "      <td>2107.000000</td>\n",
       "      <td>97.000000</td>\n",
       "    </tr>\n",
       "    <tr>\n",
       "      <th>max</th>\n",
       "      <td>88.000000</td>\n",
       "      <td>204.000000</td>\n",
       "      <td>170.000000</td>\n",
       "      <td>1285.000000</td>\n",
       "      <td>3141.000000</td>\n",
       "      <td>599.000000</td>\n",
       "      <td>201.000000</td>\n",
       "      <td>1701.000000</td>\n",
       "      <td>76.000000</td>\n",
       "      <td>470.000000</td>\n",
       "      <td>13.000000</td>\n",
       "      <td>93.000000</td>\n",
       "      <td>43.000000</td>\n",
       "      <td>4.000000</td>\n",
       "      <td>2194.000000</td>\n",
       "      <td>107.000000</td>\n",
       "    </tr>\n",
       "  </tbody>\n",
       "</table>\n",
       "</div>"
      ],
      "text/plain": [
       "             day    aircraft  helicopter         tank          APC  \\\n",
       "count  87.000000   87.000000   87.000000    87.000000    87.000000   \n",
       "mean   45.000000  136.459770  124.965517   721.873563  1927.091954   \n",
       "std    25.258662   59.260522   41.791411   337.536830   689.019570   \n",
       "min     2.000000   10.000000    7.000000    80.000000   516.000000   \n",
       "25%    23.500000   94.000000  113.500000   458.000000  1459.000000   \n",
       "50%    45.000000  151.000000  136.000000   705.000000  1895.000000   \n",
       "75%    66.500000  191.000000  155.000000  1017.000000  2458.000000   \n",
       "max    88.000000  204.000000  170.000000  1285.000000  3141.000000   \n",
       "\n",
       "       field artillery         MRL  military auto  fuel tank       drone  \\\n",
       "count        87.000000   87.000000      65.000000  65.000000   87.000000   \n",
       "mean        333.908046  114.321839    1047.507692  69.323077  155.781609   \n",
       "std         158.187013   53.426867     466.162060   7.545917  149.154550   \n",
       "min          49.000000    4.000000     100.000000  60.000000    0.000000   \n",
       "25%         209.000000   72.000000     600.000000  60.000000   14.500000   \n",
       "50%         335.000000  108.000000    1178.000000  73.000000  112.000000   \n",
       "75%         443.500000  151.000000    1437.000000  76.000000  238.500000   \n",
       "max         599.000000  201.000000    1701.000000  76.000000  470.000000   \n",
       "\n",
       "       naval ship  anti-aircraft warfare  special equipment  \\\n",
       "count   87.000000              87.000000          68.000000   \n",
       "mean     6.988506              56.804598          28.573529   \n",
       "std      3.578015              25.140923           9.711228   \n",
       "min      2.000000               0.000000          10.000000   \n",
       "25%      3.000000              43.500000          24.000000   \n",
       "50%      7.000000              55.000000          27.000000   \n",
       "75%      8.000000              78.500000          38.000000   \n",
       "max     13.000000              93.000000          43.000000   \n",
       "\n",
       "       mobile SRBM system  vehicles and fuel tanks  cruise missiles  \n",
       "count           36.000000                22.000000        22.000000  \n",
       "mean             3.944444              2011.363636        94.272727  \n",
       "std              0.333333               121.035038         6.634555  \n",
       "min              2.000000              1796.000000        84.000000  \n",
       "25%              4.000000              1928.000000        90.000000  \n",
       "50%              4.000000              2008.000000        94.000000  \n",
       "75%              4.000000              2107.000000        97.000000  \n",
       "max              4.000000              2194.000000       107.000000  "
      ]
     },
     "execution_count": 117,
     "metadata": {},
     "output_type": "execute_result"
    }
   ],
   "source": [
    "df.describe()"
   ]
  },
  {
   "cell_type": "markdown",
   "id": "18ce6a6e",
   "metadata": {},
   "source": [
    "## Tratamento de dados"
   ]
  },
  {
   "cell_type": "code",
   "execution_count": 118,
   "id": "f9becec9",
   "metadata": {},
   "outputs": [],
   "source": [
    "df.drop(['mobile SRBM system', 'vehicles and fuel tanks', 'cruise missiles', 'military auto', 'special equipment'], axis=1, inplace=True)"
   ]
  },
  {
   "cell_type": "code",
   "execution_count": 119,
   "id": "bcb799e2",
   "metadata": {},
   "outputs": [],
   "source": [
    "df.rename(columns={\n",
    "    'date': 'data',\n",
    "    'day': 'dia',\n",
    "    'aircraft': 'aeronave',\n",
    "    'helicopter': 'helicoptero',\n",
    "    'tank': 'tanque',\n",
    "    'APC': 'veiculo blindado',\n",
    "    'field artillery': 'artilharia de campo',\n",
    "    'MRL': 'lancador de foguetes',\n",
    "    'military auto': 'veiculo militar',\n",
    "    'fuel tank': 'tanque de combustivel',\n",
    "    'naval ship': 'navio militar',\n",
    "    'anti-aircraft warfare': 'interceptador de misseis',\n",
    "}, inplace=True)"
   ]
  },
  {
   "cell_type": "code",
   "execution_count": 120,
   "id": "d2438021",
   "metadata": {},
   "outputs": [
    {
     "data": {
      "text/html": [
       "<div>\n",
       "<style scoped>\n",
       "    .dataframe tbody tr th:only-of-type {\n",
       "        vertical-align: middle;\n",
       "    }\n",
       "\n",
       "    .dataframe tbody tr th {\n",
       "        vertical-align: top;\n",
       "    }\n",
       "\n",
       "    .dataframe thead th {\n",
       "        text-align: right;\n",
       "    }\n",
       "</style>\n",
       "<table border=\"1\" class=\"dataframe\">\n",
       "  <thead>\n",
       "    <tr style=\"text-align: right;\">\n",
       "      <th></th>\n",
       "      <th>data</th>\n",
       "      <th>dia</th>\n",
       "      <th>aeronave</th>\n",
       "      <th>helicoptero</th>\n",
       "      <th>tanque</th>\n",
       "      <th>veiculo blindado</th>\n",
       "      <th>artilharia de campo</th>\n",
       "      <th>lancador de foguetes</th>\n",
       "      <th>tanque de combustivel</th>\n",
       "      <th>drone</th>\n",
       "      <th>navio militar</th>\n",
       "      <th>interceptador de misseis</th>\n",
       "    </tr>\n",
       "  </thead>\n",
       "  <tbody>\n",
       "    <tr>\n",
       "      <th>0</th>\n",
       "      <td>2022-02-25</td>\n",
       "      <td>2</td>\n",
       "      <td>10</td>\n",
       "      <td>7</td>\n",
       "      <td>80</td>\n",
       "      <td>516</td>\n",
       "      <td>49</td>\n",
       "      <td>4</td>\n",
       "      <td>60.0</td>\n",
       "      <td>0</td>\n",
       "      <td>2</td>\n",
       "      <td>0</td>\n",
       "    </tr>\n",
       "    <tr>\n",
       "      <th>1</th>\n",
       "      <td>2022-02-26</td>\n",
       "      <td>3</td>\n",
       "      <td>27</td>\n",
       "      <td>26</td>\n",
       "      <td>146</td>\n",
       "      <td>706</td>\n",
       "      <td>49</td>\n",
       "      <td>4</td>\n",
       "      <td>60.0</td>\n",
       "      <td>2</td>\n",
       "      <td>2</td>\n",
       "      <td>0</td>\n",
       "    </tr>\n",
       "    <tr>\n",
       "      <th>2</th>\n",
       "      <td>2022-02-27</td>\n",
       "      <td>4</td>\n",
       "      <td>27</td>\n",
       "      <td>26</td>\n",
       "      <td>150</td>\n",
       "      <td>706</td>\n",
       "      <td>50</td>\n",
       "      <td>4</td>\n",
       "      <td>60.0</td>\n",
       "      <td>2</td>\n",
       "      <td>2</td>\n",
       "      <td>0</td>\n",
       "    </tr>\n",
       "    <tr>\n",
       "      <th>3</th>\n",
       "      <td>2022-02-28</td>\n",
       "      <td>5</td>\n",
       "      <td>29</td>\n",
       "      <td>29</td>\n",
       "      <td>150</td>\n",
       "      <td>816</td>\n",
       "      <td>74</td>\n",
       "      <td>21</td>\n",
       "      <td>60.0</td>\n",
       "      <td>3</td>\n",
       "      <td>2</td>\n",
       "      <td>5</td>\n",
       "    </tr>\n",
       "    <tr>\n",
       "      <th>4</th>\n",
       "      <td>2022-03-01</td>\n",
       "      <td>6</td>\n",
       "      <td>29</td>\n",
       "      <td>29</td>\n",
       "      <td>198</td>\n",
       "      <td>846</td>\n",
       "      <td>77</td>\n",
       "      <td>24</td>\n",
       "      <td>60.0</td>\n",
       "      <td>3</td>\n",
       "      <td>2</td>\n",
       "      <td>7</td>\n",
       "    </tr>\n",
       "  </tbody>\n",
       "</table>\n",
       "</div>"
      ],
      "text/plain": [
       "         data  dia  aeronave  helicoptero  tanque  veiculo blindado  \\\n",
       "0  2022-02-25    2        10            7      80               516   \n",
       "1  2022-02-26    3        27           26     146               706   \n",
       "2  2022-02-27    4        27           26     150               706   \n",
       "3  2022-02-28    5        29           29     150               816   \n",
       "4  2022-03-01    6        29           29     198               846   \n",
       "\n",
       "   artilharia de campo  lancador de foguetes  tanque de combustivel  drone  \\\n",
       "0                   49                     4                   60.0      0   \n",
       "1                   49                     4                   60.0      2   \n",
       "2                   50                     4                   60.0      2   \n",
       "3                   74                    21                   60.0      3   \n",
       "4                   77                    24                   60.0      3   \n",
       "\n",
       "   navio militar  interceptador de misseis  \n",
       "0              2                         0  \n",
       "1              2                         0  \n",
       "2              2                         0  \n",
       "3              2                         5  \n",
       "4              2                         7  "
      ]
     },
     "execution_count": 120,
     "metadata": {},
     "output_type": "execute_result"
    }
   ],
   "source": [
    "df.head()"
   ]
  },
  {
   "cell_type": "markdown",
   "id": "060c40b1",
   "metadata": {},
   "source": [
    "### Colunas\n",
    "- data: o dia da semana\n",
    "- dia: dia da guerra\n",
    "- aeronave: aeronaves abatidas\n",
    "- helicoptero: helicoptero abatidos"
   ]
  },
  {
   "cell_type": "markdown",
   "id": "da606173",
   "metadata": {},
   "source": [
    "### Colocando as médias no lugar dos valores NaN"
   ]
  },
  {
   "cell_type": "code",
   "execution_count": 124,
   "id": "9c16f869",
   "metadata": {},
   "outputs": [],
   "source": [
    "df['tanque de combustivel'].fillna(round(df['tanque de combustivel'].mean(), 2), inplace=True)"
   ]
  },
  {
   "cell_type": "markdown",
   "id": "bbc4ae69",
   "metadata": {},
   "source": [
    "### Transformando a coluna data em formato pt-br"
   ]
  },
  {
   "cell_type": "code",
   "execution_count": 125,
   "id": "c6f9c3a5",
   "metadata": {},
   "outputs": [],
   "source": [
    "df['data'] = pd.to_datetime(df['data']).dt.strftime('%d/%m/%Y')"
   ]
  },
  {
   "cell_type": "code",
   "execution_count": 126,
   "id": "8e4d38e6",
   "metadata": {},
   "outputs": [
    {
     "data": {
      "text/html": [
       "<div>\n",
       "<style scoped>\n",
       "    .dataframe tbody tr th:only-of-type {\n",
       "        vertical-align: middle;\n",
       "    }\n",
       "\n",
       "    .dataframe tbody tr th {\n",
       "        vertical-align: top;\n",
       "    }\n",
       "\n",
       "    .dataframe thead th {\n",
       "        text-align: right;\n",
       "    }\n",
       "</style>\n",
       "<table border=\"1\" class=\"dataframe\">\n",
       "  <thead>\n",
       "    <tr style=\"text-align: right;\">\n",
       "      <th></th>\n",
       "      <th>data</th>\n",
       "      <th>dia</th>\n",
       "      <th>aeronave</th>\n",
       "      <th>helicoptero</th>\n",
       "      <th>tanque</th>\n",
       "      <th>veiculo blindado</th>\n",
       "      <th>artilharia de campo</th>\n",
       "      <th>lancador de foguetes</th>\n",
       "      <th>tanque de combustivel</th>\n",
       "      <th>drone</th>\n",
       "      <th>navio militar</th>\n",
       "      <th>interceptador de misseis</th>\n",
       "    </tr>\n",
       "  </thead>\n",
       "  <tbody>\n",
       "    <tr>\n",
       "      <th>0</th>\n",
       "      <td>25/02/2022</td>\n",
       "      <td>2</td>\n",
       "      <td>10</td>\n",
       "      <td>7</td>\n",
       "      <td>80</td>\n",
       "      <td>516</td>\n",
       "      <td>49</td>\n",
       "      <td>4</td>\n",
       "      <td>60.0</td>\n",
       "      <td>0</td>\n",
       "      <td>2</td>\n",
       "      <td>0</td>\n",
       "    </tr>\n",
       "    <tr>\n",
       "      <th>1</th>\n",
       "      <td>26/02/2022</td>\n",
       "      <td>3</td>\n",
       "      <td>27</td>\n",
       "      <td>26</td>\n",
       "      <td>146</td>\n",
       "      <td>706</td>\n",
       "      <td>49</td>\n",
       "      <td>4</td>\n",
       "      <td>60.0</td>\n",
       "      <td>2</td>\n",
       "      <td>2</td>\n",
       "      <td>0</td>\n",
       "    </tr>\n",
       "    <tr>\n",
       "      <th>2</th>\n",
       "      <td>27/02/2022</td>\n",
       "      <td>4</td>\n",
       "      <td>27</td>\n",
       "      <td>26</td>\n",
       "      <td>150</td>\n",
       "      <td>706</td>\n",
       "      <td>50</td>\n",
       "      <td>4</td>\n",
       "      <td>60.0</td>\n",
       "      <td>2</td>\n",
       "      <td>2</td>\n",
       "      <td>0</td>\n",
       "    </tr>\n",
       "    <tr>\n",
       "      <th>3</th>\n",
       "      <td>28/02/2022</td>\n",
       "      <td>5</td>\n",
       "      <td>29</td>\n",
       "      <td>29</td>\n",
       "      <td>150</td>\n",
       "      <td>816</td>\n",
       "      <td>74</td>\n",
       "      <td>21</td>\n",
       "      <td>60.0</td>\n",
       "      <td>3</td>\n",
       "      <td>2</td>\n",
       "      <td>5</td>\n",
       "    </tr>\n",
       "    <tr>\n",
       "      <th>4</th>\n",
       "      <td>03/01/2022</td>\n",
       "      <td>6</td>\n",
       "      <td>29</td>\n",
       "      <td>29</td>\n",
       "      <td>198</td>\n",
       "      <td>846</td>\n",
       "      <td>77</td>\n",
       "      <td>24</td>\n",
       "      <td>60.0</td>\n",
       "      <td>3</td>\n",
       "      <td>2</td>\n",
       "      <td>7</td>\n",
       "    </tr>\n",
       "  </tbody>\n",
       "</table>\n",
       "</div>"
      ],
      "text/plain": [
       "         data  dia  aeronave  helicoptero  tanque  veiculo blindado  \\\n",
       "0  25/02/2022    2        10            7      80               516   \n",
       "1  26/02/2022    3        27           26     146               706   \n",
       "2  27/02/2022    4        27           26     150               706   \n",
       "3  28/02/2022    5        29           29     150               816   \n",
       "4  03/01/2022    6        29           29     198               846   \n",
       "\n",
       "   artilharia de campo  lancador de foguetes  tanque de combustivel  drone  \\\n",
       "0                   49                     4                   60.0      0   \n",
       "1                   49                     4                   60.0      2   \n",
       "2                   50                     4                   60.0      2   \n",
       "3                   74                    21                   60.0      3   \n",
       "4                   77                    24                   60.0      3   \n",
       "\n",
       "   navio militar  interceptador de misseis  \n",
       "0              2                         0  \n",
       "1              2                         0  \n",
       "2              2                         0  \n",
       "3              2                         5  \n",
       "4              2                         7  "
      ]
     },
     "execution_count": 126,
     "metadata": {},
     "output_type": "execute_result"
    }
   ],
   "source": [
    "df.head()"
   ]
  },
  {
   "cell_type": "markdown",
   "id": "5364a59e",
   "metadata": {},
   "source": []
  },
  {
   "cell_type": "markdown",
   "id": "4d90ef3b",
   "metadata": {},
   "source": [
    "## Análise gráfica"
   ]
  },
  {
   "cell_type": "code",
   "execution_count": 127,
   "id": "342d6b02",
   "metadata": {},
   "outputs": [
    {
     "data": {
      "image/png": "[encoded data removed]",
      "text/plain": [
       "<Figure size 1080x720 with 1 Axes>"
      ]
     },
     "metadata": {
      "needs_background": "light"
     },
     "output_type": "display_data"
    }
   ],
   "source": [
    "plt.figure(figsize=(15, 10))\n",
    "plt.title('Perdas Aéreas')\n",
    "sns.lineplot(x='dia',y='aeronave', data=df, marker='v', label='aeronave')\n",
    "sns.lineplot(x='dia',y='helicoptero', data=df, marker='v', label='helicoptero')\n",
    "sns.lineplot(x='dia',y='drone', data=df, marker='v', label='drone')\n",
    "plt.ylabel('quantidade')\n",
    "plt.xticks(np.arange(0, 95, 5));"
   ]
  },
  {
   "cell_type": "code",
   "execution_count": 128,
   "id": "7dde903e",
   "metadata": {},
   "outputs": [
    {
     "data": {
      "image/png": "[encoded data removed]",
      "text/plain": [
       "<Figure size 1080x504 with 1 Axes>"
      ]
     },
     "metadata": {
      "needs_background": "light"
     },
     "output_type": "display_data"
    }
   ],
   "source": [
    "plt.figure(figsize=(15, 7))\n",
    "plt.title('Perdas Marítima')\n",
    "sns.lineplot(x='dia',y='navio militar', data=df, marker='v', label='navio militar')\n",
    "plt.ylabel('quantidade')\n",
    "plt.xticks(np.arange(0, 95, 5));"
   ]
  },
  {
   "cell_type": "code",
   "execution_count": 129,
   "id": "fc3c5800",
   "metadata": {},
   "outputs": [
    {
     "data": {
      "image/png": "[encoded data removed]",
      "text/plain": [
       "<Figure size 1080x1080 with 1 Axes>"
      ]
     },
     "metadata": {
      "needs_background": "light"
     },
     "output_type": "display_data"
    }
   ],
   "source": [
    "plt.figure(figsize=(15, 15))\n",
    "plt.title('Perdas Terrestres')\n",
    "sns.lineplot(x='dia',y='tanque', data=df, marker='v', label='tanque')\n",
    "sns.lineplot(x='dia',y='veiculo blindado', data=df, marker='v', label='veiculo blindado')\n",
    "sns.lineplot(x='dia',y='artilharia de campo', data=df, marker='v', label='artilharia de campo')\n",
    "sns.lineplot(x='dia',y='lancador de foguetes', data=df, marker='v', label='lancador de foguetes')\n",
    "plt.ylabel('quantidade')\n",
    "plt.xticks(np.arange(0, 95, 5));"
   ]
  },
  {
   "cell_type": "markdown",
   "id": "3182cbb6",
   "metadata": {},
   "source": [
    "## Regressão Linear"
   ]
  },
  {
   "cell_type": "code",
   "execution_count": 141,
   "id": "d3a62b96",
   "metadata": {},
   "outputs": [],
   "source": [
    "X = df[[\n",
    "    'aeronave', \n",
    "    'helicoptero', \n",
    "    'veiculo blindado',\n",
    "    'artilharia de campo', \n",
    "    'lancador de foguetes', \n",
    "    'tanque de combustivel',\n",
    "    'drone', \n",
    "    'navio militar', \n",
    "    'interceptador de misseis'\n",
    "    ]]\n",
    "y = df['tanque']"
   ]
  },
  {
   "cell_type": "code",
   "execution_count": 142,
   "id": "bb64dea6",
   "metadata": {},
   "outputs": [],
   "source": [
    "from sklearn.model_selection import train_test_split"
   ]
  },
  {
   "cell_type": "code",
   "execution_count": 143,
   "id": "dfd4c641",
   "metadata": {},
   "outputs": [],
   "source": [
    "X_treino, X_teste, Y_treino, Y_teste = train_test_split(X, y, random_state=101, test_size=0.4)"
   ]
  },
  {
   "cell_type": "code",
   "execution_count": 144,
   "id": "cdae1ae5",
   "metadata": {},
   "outputs": [],
   "source": [
    "from sklearn.linear_model import LinearRegression"
   ]
  },
  {
   "cell_type": "code",
   "execution_count": 145,
   "id": "9987ec4b",
   "metadata": {},
   "outputs": [],
   "source": [
    "LR = LinearRegression()"
   ]
  },
  {
   "cell_type": "code",
   "execution_count": 146,
   "id": "4e79741e",
   "metadata": {},
   "outputs": [
    {
     "data": {
      "text/plain": [
       "LinearRegression()"
      ]
     },
     "execution_count": 146,
     "metadata": {},
     "output_type": "execute_result"
    }
   ],
   "source": [
    "LR.fit(X_treino, Y_treino)"
   ]
  },
  {
   "cell_type": "code",
   "execution_count": 151,
   "id": "fd9ca460",
   "metadata": {},
   "outputs": [],
   "source": [
    "predicao = LR.predict(X_teste)"
   ]
  },
  {
   "cell_type": "code",
   "execution_count": 158,
   "id": "5f321979",
   "metadata": {},
   "outputs": [],
   "source": [
    "from sklearn import metrics"
   ]
  },
  {
   "cell_type": "code",
   "execution_count": 159,
   "id": "2f61acc7",
   "metadata": {},
   "outputs": [
    {
     "data": {
      "text/plain": [
       "10.18190762050064"
      ]
     },
     "execution_count": 159,
     "metadata": {},
     "output_type": "execute_result"
    }
   ],
   "source": [
    "metrics.mean_absolute_error(Y_teste,predicao)"
   ]
  },
  {
   "cell_type": "code",
   "execution_count": 160,
   "id": "a122eaf6",
   "metadata": {},
   "outputs": [
    {
     "data": {
      "text/plain": [
       "173.47452725898907"
      ]
     },
     "execution_count": 160,
     "metadata": {},
     "output_type": "execute_result"
    }
   ],
   "source": [
    "metrics.mean_squared_error(Y_teste, predicao)"
   ]
  },
  {
   "cell_type": "code",
   "execution_count": null,
   "id": "594bdae0",
   "metadata": {},
   "outputs": [],
   "source": []
  }
 ],
 "metadata": {
  "kernelspec": {
   "display_name": "Python 3 (ipykernel)",
   "language": "python",
   "name": "python3"
  },
  "language_info": {
   "codemirror_mode": {
    "name": "ipython",
    "version": 3
   },
   "file_extension": ".py",
   "mimetype": "text/x-python",
   "name": "python",
   "nbconvert_exporter": "python",
   "pygments_lexer": "ipython3",
   "version": "3.9.7"
  }
 },
 "nbformat": 4,
 "nbformat_minor": 5
}
